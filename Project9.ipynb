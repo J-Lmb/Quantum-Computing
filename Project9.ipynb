{
  "nbformat": 4,
  "nbformat_minor": 0,
  "metadata": {
    "kernelspec": {
      "display_name": "Python 3",
      "language": "python",
      "name": "python3"
    },
    "language_info": {
      "codemirror_mode": {
        "name": "ipython",
        "version": 3
      },
      "file_extension": ".py",
      "mimetype": "text/x-python",
      "name": "python",
      "nbconvert_exporter": "python",
      "pygments_lexer": "ipython3",
      "version": "3.7.6"
    },
    "colab": {
      "name": "SPOILER_ex1.ipynb",
      "provenance": [],
      "include_colab_link": true
    }
  },
  "cells": [
    {
      "cell_type": "markdown",
      "metadata": {
        "id": "view-in-github",
        "colab_type": "text"
      },
      "source": [
        "<a href=\"https://colab.research.google.com/github/J-Lmb/Quantum-Computing/blob/main/Project9.ipynb\" target=\"_parent\"><img src=\"https://colab.research.google.com/assets/colab-badge.svg\" alt=\"Open In Colab\"/></a>"
      ]
    },
    {
      "cell_type": "markdown",
      "metadata": {
        "id": "lWzZimF8ZE9K"
      },
      "source": [
        "![image](resources/qgss-header.png)"
      ]
    },
    {
      "cell_type": "markdown",
      "metadata": {
        "id": "C5Onv1PaZE9R"
      },
      "source": [
        "# Lab 9: Hardware-efficient trial states for variational quantum eigensolvers"
      ]
    },
    {
      "cell_type": "markdown",
      "metadata": {
        "id": "nMzSfJZfZE9R"
      },
      "source": [
        "In this lab, we want to find the ground state energy of the following two-qubit Hamiltonian representing molecular $H_2$ at its equilibrium distance. Note that we have already mapped the fermionic operators onto qubits here.\n",
        "\n",
        "```\n",
        "h2_hamiltonian = (-1.0523732)  II + \n",
        "                 (0.39793742)  IZ + \n",
        "                 (-0.3979374)  ZI + \n",
        "                 (-0.0112801)  ZZ + \n",
        "                 (0.18093119)  XX\n",
        "```\n",
        "                \n",
        "Note that these co-efficients are functions of the interatomic distance between the atoms. A term like `IZ` is shorthand notation for a tensor product of two-qubit operators -- the identity operator ($I$) on one qubit and pauli-Z operator ($Z$) on the other qubit."
      ]
    },
    {
      "cell_type": "markdown",
      "metadata": {
        "id": "65zeTTu8ZE9S"
      },
      "source": [
        "### Installing necessary packages\n",
        "\n",
        "Before we begin, you will need to install some prerequisites into your environment. Run the cell below to complete these installations. At the end, the cell outputs will be cleared."
      ]
    },
    {
      "cell_type": "code",
      "metadata": {
        "id": "HT5myJIsZE9S"
      },
      "source": [
        "!pip install -U -r grading_tools/requirements.txt\n",
        "\n",
        "from IPython.display import clear_output\n",
        "clear_output()"
      ],
      "execution_count": null,
      "outputs": []
    },
    {
      "cell_type": "markdown",
      "metadata": {
        "id": "-BghboF1ZE9T"
      },
      "source": [
        "# Hardware efficient trial states"
      ]
    },
    {
      "cell_type": "markdown",
      "metadata": {
        "id": "slkaIlt4ZE9U"
      },
      "source": [
        "We need to prepare a guess for the ground state of this Hamiltonian. For this exercise, we will construct a hardware efficient trial state of depth `d=2`, with CNOT (`CX`) gates for the entanglers. We will interleave each entangling layer with a set of $R_yR_z$ gates on each qubit (total 4 layers). For the first guess, we will use rotation angles of $\\pi/2$ on all the $R_y$ and $R_z$ gates."
      ]
    },
    {
      "cell_type": "code",
      "metadata": {
        "id": "bKxqGK0TZE9V"
      },
      "source": [
        "import numpy as np; pi = np.pi\n",
        "from qiskit import QuantumCircuit, Aer, execute\n",
        "from qiskit.visualization import plot_histogram\n",
        "from copy import deepcopy as make_copy"
      ],
      "execution_count": null,
      "outputs": []
    },
    {
      "cell_type": "code",
      "metadata": {
        "id": "Jr_WUF_xZE9V"
      },
      "source": [
        "def prepare_hets_circuit(depth, angle1, angle2):\n",
        "\n",
        "    hets_circ = QuantumCircuit(depth)\n",
        "    hets_circ.ry(angle1, 0)\n",
        "    hets_circ.rz(angle1, 0)\n",
        "    hets_circ.ry(angle1, 1)\n",
        "    hets_circ.rz(angle1, 1)\n",
        "\n",
        "    for ii in range(depth):\n",
        "        hets_circ.cx(0,1)\n",
        "        hets_circ.ry(angle2,0)\n",
        "        hets_circ.rz(angle2,0)\n",
        "        hets_circ.ry(angle2,1)\n",
        "        hets_circ.rz(angle2,1)\n",
        "    \n",
        "    return hets_circ "
      ],
      "execution_count": null,
      "outputs": []
    },
    {
      "cell_type": "code",
      "metadata": {
        "id": "Qb7eLQPuZE9W"
      },
      "source": [
        "hets_circuit = prepare_hets_circuit(2, pi/2, pi/2)\n",
        "hets_circuit.draw()"
      ],
      "execution_count": null,
      "outputs": []
    },
    {
      "cell_type": "markdown",
      "metadata": {
        "id": "dQAaFXaQZE9W"
      },
      "source": [
        "# Measuring expectation values"
      ]
    },
    {
      "cell_type": "markdown",
      "metadata": {
        "id": "wI1__3xMZE9X"
      },
      "source": [
        "Next, we measure expectation values. **We will begin by measuring the ZZ expectation value, or $\\langle ZZ \\rangle$**. We will first create a copy of the `hets_circ` quantum circuit that we created above, and add measurements to it."
      ]
    },
    {
      "cell_type": "code",
      "metadata": {
        "id": "DTmccF5OZE9X"
      },
      "source": [
        "def measure_zz_circuit(given_circuit):\n",
        "    zz_meas = make_copy(given_circuit)\n",
        "    zz_meas.measure_all()\n",
        "    return zz_meas\n",
        "\n",
        "zz_meas = measure_zz_circuit(hets_circuit)\n",
        "zz_meas.draw()"
      ],
      "execution_count": null,
      "outputs": []
    },
    {
      "cell_type": "markdown",
      "metadata": {
        "id": "HE1r_nb3ZE9X"
      },
      "source": [
        "Next, let's execute this quantum circuit and see the measurement outcomes."
      ]
    },
    {
      "cell_type": "code",
      "metadata": {
        "id": "rtVSSySnZE9X"
      },
      "source": [
        "simulator = Aer.get_backend('qasm_simulator')"
      ],
      "execution_count": null,
      "outputs": []
    },
    {
      "cell_type": "code",
      "metadata": {
        "id": "WY9YEuXEZE9Y"
      },
      "source": [
        "result = execute(zz_meas, backend = simulator, shots=10000).result()\n",
        "counts = result.get_counts(zz_meas)\n",
        "\n",
        "plot_histogram(counts)"
      ],
      "execution_count": null,
      "outputs": []
    },
    {
      "cell_type": "markdown",
      "metadata": {
        "id": "XR-NAdFnZE9Y"
      },
      "source": [
        "We can analyze the counts and calculate the $\\langle ZZ \\rangle$ as follows:"
      ]
    },
    {
      "cell_type": "code",
      "metadata": {
        "id": "9jM7O8r3ZE9Y"
      },
      "source": [
        "def measure_zz(given_circuit, num_shots = 10000):\n",
        "\n",
        "    zz_meas = measure_zz_circuit(given_circuit)\n",
        "    \n",
        "    result = execute(zz_meas, backend = simulator, shots = num_shots).result()\n",
        "    counts = result.get_counts(zz_meas)\n",
        "\n",
        "    if '00' not in counts:\n",
        "        counts['00'] = 0\n",
        "    if '01' not in counts:\n",
        "        counts['01'] = 0\n",
        "    if '10' not in counts:\n",
        "        counts['10'] = 0\n",
        "    if '11' not in counts:\n",
        "        counts['11'] = 0 \n",
        "\n",
        "    total_counts = counts['00'] + counts['11'] + counts['01'] + counts['10']\n",
        "    zz = counts['00'] + counts['11'] - counts['01'] - counts['10']\n",
        "    zz = zz / total_counts\n",
        "    \n",
        "    return zz"
      ],
      "execution_count": null,
      "outputs": []
    },
    {
      "cell_type": "code",
      "metadata": {
        "id": "PmHwcEHxZE9Z"
      },
      "source": [
        "zz = measure_zz(hets_circuit)\n",
        "print(\"<ZZ> =\", str(zz))"
      ],
      "execution_count": null,
      "outputs": []
    },
    {
      "cell_type": "markdown",
      "metadata": {
        "id": "IOG70ySSZE9Z"
      },
      "source": [
        "**What about $\\langle ZI \\rangle$ and  $\\langle IZ \\rangle$? Do these need new circuits?**\n",
        "\n",
        "The answer is no, and they can be computed from the results above."
      ]
    },
    {
      "cell_type": "code",
      "metadata": {
        "id": "by6EA32OZE9Z"
      },
      "source": [
        "def measure_zi(given_circuit, num_shots = 10000):\n",
        "    \n",
        "    zz_meas = measure_zz_circuit(given_circuit)\n",
        "    \n",
        "    result = execute(zz_meas, backend = simulator, shots = num_shots).result()\n",
        "    counts = result.get_counts(zz_meas)\n",
        "\n",
        "    if '00' not in counts:\n",
        "        counts['00'] = 0\n",
        "    if '01' not in counts:\n",
        "        counts['01'] = 0\n",
        "    if '10' not in counts:\n",
        "        counts['10'] = 0\n",
        "    if '11' not in counts:\n",
        "        counts['11'] = 0 \n",
        "\n",
        "    total_counts = counts['00'] + counts['11'] + counts['01'] + counts['10']\n",
        "    \n",
        "    zi = counts['00'] - counts['11'] + counts['01'] - counts['10']\n",
        "    zi = zi / total_counts\n",
        "    \n",
        "    return zi\n",
        "\n",
        "def measure_iz(given_circuit, num_shots = 10000):\n",
        "    \n",
        "    zz_meas = measure_zz_circuit(given_circuit)\n",
        "    \n",
        "    result = execute(zz_meas, backend = simulator, shots = num_shots).result()\n",
        "    counts = result.get_counts(zz_meas)\n",
        "\n",
        "    if '00' not in counts:\n",
        "        counts['00'] = 0\n",
        "    if '01' not in counts:\n",
        "        counts['01'] = 0\n",
        "    if '10' not in counts:\n",
        "        counts['10'] = 0\n",
        "    if '11' not in counts:\n",
        "        counts['11'] = 0 \n",
        "\n",
        "    total_counts = counts['00'] + counts['11'] + counts['01'] + counts['10']\n",
        "    \n",
        "    iz = counts['00'] - counts['11'] - counts['01'] + counts['10']\n",
        "    iz = iz / total_counts\n",
        "    \n",
        "    return iz"
      ],
      "execution_count": null,
      "outputs": []
    },
    {
      "cell_type": "code",
      "metadata": {
        "id": "55ECplhjZE9a"
      },
      "source": [
        "zi = measure_zi(hets_circuit)\n",
        "print(\"<ZI> =\", str(zi))\n",
        "\n",
        "iz = measure_iz(hets_circuit)\n",
        "print(\"<IZ> =\", str(iz))"
      ],
      "execution_count": null,
      "outputs": []
    },
    {
      "cell_type": "markdown",
      "metadata": {
        "id": "5ZGwBWN8ZE9a"
      },
      "source": [
        "**Next, we measure $\\langle XX \\rangle$**"
      ]
    },
    {
      "cell_type": "code",
      "metadata": {
        "id": "GZzDgr4gZE9a"
      },
      "source": [
        "def measure_xx_circuit(given_circuit):\n",
        "    xx_meas = make_copy(given_circuit)\n",
        "    \n",
        "    ### WRITE YOUR CODE BETWEEN THESE LINES - START\n",
        "    \n",
        "    xx_meas.h(0)\n",
        "    xx_meas.h(1)\n",
        "    xx_meas.measure_all()\n",
        "    \n",
        "    ### WRITE YOUR CODE BETWEEN THESE LINES - END\n",
        "\n",
        "    return xx_meas"
      ],
      "execution_count": null,
      "outputs": []
    },
    {
      "cell_type": "code",
      "metadata": {
        "id": "OMA_g0s8ZE9b"
      },
      "source": [
        "xx_meas = measure_xx_circuit(hets_circuit)\n",
        "xx_meas.draw()"
      ],
      "execution_count": null,
      "outputs": []
    },
    {
      "cell_type": "code",
      "metadata": {
        "id": "HAV8JRz9ZE9c"
      },
      "source": [
        "def measure_xx(given_circuit, num_shots = 10000):\n",
        "    \n",
        "    xx_meas = measure_xx_circuit(given_circuit)\n",
        "    \n",
        "    result = execute(xx_meas, backend = simulator, shots = num_shots).result()\n",
        "    counts = result.get_counts(xx_meas)\n",
        "\n",
        "    if '00' not in counts:\n",
        "        counts['00'] = 0\n",
        "    if '01' not in counts:\n",
        "        counts['01'] = 0\n",
        "    if '10' not in counts:\n",
        "        counts['10'] = 0\n",
        "    if '11' not in counts:\n",
        "        counts['11'] = 0\n",
        "\n",
        "    total_counts = counts['00'] + counts['11'] + counts['01'] + counts['10']\n",
        "    xx = counts['00'] + counts['11'] - counts['01'] - counts['10']\n",
        "    xx = xx / total_counts\n",
        "    \n",
        "    return xx\n",
        "\n",
        "xx = measure_xx(hets_circuit)\n",
        "print(\"<XX> =\", str(xx))"
      ],
      "execution_count": null,
      "outputs": []
    },
    {
      "cell_type": "markdown",
      "metadata": {
        "id": "MJmBijk0ZE9c"
      },
      "source": [
        "### Now we evaluate the energy of the trial state"
      ]
    },
    {
      "cell_type": "code",
      "metadata": {
        "id": "Utdne73XZE9c"
      },
      "source": [
        "def get_energy(given_circuit, num_shots = 10000):\n",
        "    \n",
        "    zz = measure_zz(given_circuit, num_shots = num_shots)\n",
        "    iz = measure_iz(given_circuit, num_shots = num_shots)\n",
        "    zi = measure_zi(given_circuit, num_shots = num_shots)\n",
        "    xx = measure_xx(given_circuit, num_shots = num_shots)\n",
        "    \n",
        "    energy = (-1.0523732)*1 + (0.39793742)*iz + (-0.3979374)*zi + (-0.0112801)*zz + (0.18093119)*xx\n",
        "    \n",
        "    return energy"
      ],
      "execution_count": null,
      "outputs": []
    },
    {
      "cell_type": "code",
      "metadata": {
        "id": "H-uwlpo3ZE9d"
      },
      "source": [
        "energy = get_energy(hets_circuit)\n",
        "print(\"The energy of the trial state is\", str(energy))"
      ],
      "execution_count": null,
      "outputs": []
    },
    {
      "cell_type": "markdown",
      "metadata": {
        "id": "ChZ_XvK5ZE9d"
      },
      "source": [
        "# Computing gradients"
      ]
    },
    {
      "cell_type": "markdown",
      "metadata": {
        "id": "X_TV9BPLZE9d"
      },
      "source": [
        "The objective of the next set of exercises is to compute the next set of angles to use for the trial state preparation. Create two quantum circuits using `prepare_hets_circuit(depth=2, angle2 = pi/2)` for measuring expectation values with values for `angle1 = pi/2 + 0.1*pi/2` and `angle1 = pi/2 - 0.1*pi/2`, and measure the energy of both trial states."
      ]
    },
    {
      "cell_type": "code",
      "metadata": {
        "id": "c9DuM6RlZE9d"
      },
      "source": [
        "hets_circuit_plus = None\n",
        "hets_circuit_minus = None\n",
        "\n",
        "### WRITE YOUR CODE BETWEEN THESE LINES - START\n",
        "\n",
        "hets_circuit_plus = prepare_hets_circuit(2, pi/2 + 0.1*pi/2, pi/2)\n",
        "hets_circuit_minus = prepare_hets_circuit(2, pi/2 - 0.1*pi/2, pi/2)\n",
        "\n",
        "### WRITE YOUR CODE BETWEEN THESE LINES - END\n",
        "\n",
        "energy_plus = get_energy(hets_circuit_plus, num_shots=100000)\n",
        "energy_minus = get_energy(hets_circuit_minus, num_shots=100000)\n",
        "\n",
        "print(energy_plus, energy_minus)"
      ],
      "execution_count": null,
      "outputs": []
    },
    {
      "cell_type": "markdown",
      "metadata": {
        "id": "LrQT57wsZE9e"
      },
      "source": [
        "As you can see, one of these is certainly lower energy than the other, and is also lower energy than the case when `angle1 = pi/2`. This is a suitable next point for our iteration of a variational eigensolver."
      ]
    },
    {
      "cell_type": "markdown",
      "metadata": {
        "id": "CJfq2PN-ZE9e"
      },
      "source": [
        "# Submitting your solutions for grading"
      ]
    },
    {
      "cell_type": "markdown",
      "metadata": {
        "id": "3zvSvl5mZE9e"
      },
      "source": [
        "Now, grade your solution by running the cell below after filling in your name and email address. Always provide the same name and email as the one you used during registration to ensure consistency."
      ]
    },
    {
      "cell_type": "code",
      "metadata": {
        "id": "kFsxlso9ZE9e"
      },
      "source": [
        "name = 'First Last'\n",
        "email = 'first.last@domain.com'\n",
        "\n",
        "### Do not change the lines below\n",
        "from grading_tools import grade\n",
        "\n",
        "grade(answer=measure_xx_circuit(hets_circuit), name=name, email=email, labid='lab9', exerciseid='ex1')\n",
        "grade(answer=hets_circuit_plus, name=name, email=email, labid='lab9', exerciseid='ex2')\n",
        "grade(answer=hets_circuit_minus, name=name, email=email, labid='lab9', exerciseid='ex3')"
      ],
      "execution_count": null,
      "outputs": []
    },
    {
      "cell_type": "markdown",
      "metadata": {
        "id": "Teh7cCCAZE9f"
      },
      "source": [
        "## Bonus 1"
      ]
    },
    {
      "cell_type": "markdown",
      "metadata": {
        "id": "MKDl5JLtZE9f"
      },
      "source": [
        "While this is not graded, explore whether the decision above would be easy if your execution ran different numbers of shots. In particular, measure `energy_plus` and `energy_minus` again with `100`, `1000` and `10000` shots to explore how easy or difficult this decision gets with each one."
      ]
    },
    {
      "cell_type": "code",
      "metadata": {
        "id": "7Jzw5mZXZE9f"
      },
      "source": [
        "energy_plus_100, energy_plus_1000, energy_plus_10000 = 0, 0, 0\n",
        "energy_minus_100, energy_minus_1000, energy_minus_10000 = 0, 0, 0\n",
        "\n",
        "### WRITE YOUR CODE BETWEEN THESE LINES - START\n",
        "\n",
        "energy_plus_100 = get_energy(hets_circuit_plus, num_shots = 100)\n",
        "energy_minus_100 = get_energy(hets_circuit_minus, num_shots = 100)\n",
        "\n",
        "energy_plus_1000 = get_energy(hets_circuit_plus, num_shots = 1000)\n",
        "energy_minus_1000 = get_energy(hets_circuit_minus, num_shots = 1000)\n",
        "\n",
        "energy_plus_10000 = get_energy(hets_circuit_plus, num_shots = 10000)\n",
        "energy_minus_10000 = get_energy(hets_circuit_minus, num_shots = 10000)\n",
        "\n",
        "### WRITE YOUR CODE BETWEEN THESE LINES - END\n",
        "\n",
        "print(energy_plus_100, energy_minus_100, \"difference = \", energy_minus_100 - energy_plus_100)\n",
        "print(energy_plus_1000, energy_minus_1000, \"difference = \", energy_minus_1000 - energy_plus_1000)\n",
        "print(energy_plus_10000, energy_minus_10000, \"difference = \", energy_minus_10000 - energy_plus_10000)"
      ],
      "execution_count": null,
      "outputs": []
    },
    {
      "cell_type": "markdown",
      "metadata": {
        "id": "ZdFsYq3zZE9g"
      },
      "source": [
        "## Bonus 2"
      ]
    },
    {
      "cell_type": "markdown",
      "metadata": {
        "id": "yC7r7Z5LZE9g"
      },
      "source": [
        "While this is not graded, diagonalize the Hamiltonian by writing down the matrices for the Pauli operators `I`, `X` and `Z`, and find the exact ground state energy."
      ]
    },
    {
      "cell_type": "code",
      "metadata": {
        "id": "Zh_LSDQ_ZE9g"
      },
      "source": [
        "### WRITE YOUR CODE BETWEEN THESE LINES - START\n",
        "\n",
        "I = np.array([\n",
        "[1, 0],\n",
        "[0, 1]\n",
        "])\n",
        "\n",
        "X = np.array([\n",
        "[0, 1],\n",
        "[1, 0]\n",
        "])\n",
        "\n",
        "Z = np.array([\n",
        "[1, 0],\n",
        "[0, -1]\n",
        "])\n",
        "\n",
        "h2_hamiltonian = (-1.0523732) * np.kron(I, I) + \\\n",
        "                 (0.39793742) * np.kron(I, Z) + \\\n",
        "                 (-0.3979374) * np.kron(Z, I) + \\\n",
        "                 (-0.0112801) * np.kron(Z, Z) + \\\n",
        "                 (0.18093119) * np.kron(X, X)\n",
        "\n",
        "from numpy import linalg as LA\n",
        "eigenvalues, eigenvectors = LA.eig(h2_hamiltonian)\n",
        "for ii, eigenvalue in enumerate(eigenvalues):\n",
        "    print(f\"Eigenvector {eigenvectors[:,ii]} has energy {eigenvalue}\")\n",
        "\n",
        "exact_eigenvector = eigenvectors[:,np.argmin(eigenvalues)]\n",
        "exact_eigenvalue = np.min(eigenvalues)\n",
        "\n",
        "print()\n",
        "print(\"Minimum energy is\", exact_eigenvalue)\n",
        "\n",
        "### WRITE YOUR CODE BETWEEN THESE LINES - END"
      ],
      "execution_count": null,
      "outputs": []
    }
  ]
}