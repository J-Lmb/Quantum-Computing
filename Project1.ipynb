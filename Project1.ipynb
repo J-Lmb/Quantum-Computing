{
  "nbformat": 4,
  "nbformat_minor": 0,
  "metadata": {
    "kernelspec": {
      "display_name": "Python 3",
      "language": "python",
      "name": "python3"
    },
    "language_info": {
      "codemirror_mode": {
        "name": "ipython",
        "version": 3
      },
      "file_extension": ".py",
      "mimetype": "text/x-python",
      "name": "python",
      "nbconvert_exporter": "python",
      "pygments_lexer": "ipython3",
      "version": "3.8.3"
    },
    "colab": {
      "name": "SPOILER_ex1.ipynb",
      "provenance": [],
      "include_colab_link": true
    }
  },
  "cells": [
    {
      "cell_type": "markdown",
      "metadata": {
        "id": "view-in-github",
        "colab_type": "text"
      },
      "source": [
        "<a href=\"https://colab.research.google.com/github/J-Lmb/Quantum-Computing/blob/main/Project1.ipynb\" target=\"_parent\"><img src=\"https://colab.research.google.com/assets/colab-badge.svg\" alt=\"Open In Colab\"/></a>"
      ]
    },
    {
      "cell_type": "markdown",
      "metadata": {
        "id": "9ddIVeH4aq-M"
      },
      "source": [
        "![image](resources/qgss-header.png)"
      ]
    },
    {
      "cell_type": "markdown",
      "metadata": {
        "id": "tM5qsvE0aq-Z"
      },
      "source": [
        "# Lab 1: Single-qubit and multi-qubit states, quantum teleportation"
      ]
    },
    {
      "cell_type": "markdown",
      "metadata": {
        "id": "m8oYr7Myaq-a"
      },
      "source": [
        "In this lab, you will learn how to write `Qiskit` code and investigate single-qubit and multi-qubit states using the `qpshere` visualization that you learned in lecture 1.\n",
        "\n",
        "If you have not used Jupyter notebooks before, take a look at the following video to quickly get started.\n",
        "- https://www.youtube.com/watch?v=jZ952vChhuI\n",
        "\n",
        "Remember, to run a cell in Jupyter notebooks, you press `Shift` + `Return/Enter` on your keyboard."
      ]
    },
    {
      "cell_type": "markdown",
      "metadata": {
        "id": "A7CnSUSOaq-b"
      },
      "source": [
        "### Installing necessary packages"
      ]
    },
    {
      "cell_type": "markdown",
      "metadata": {
        "id": "UGVX5pvpaq-c"
      },
      "source": [
        "Before we begin, you will need to install some prerequisites into your environment. Run the cell below to complete these installations. At the end, the cell outputs will be cleared."
      ]
    },
    {
      "cell_type": "code",
      "metadata": {
        "id": "k3yM-qFCaq-d"
      },
      "source": [
        "!pip install -U -r grading_tools/requirements.txt\n",
        "\n",
        "from IPython.display import clear_output\n",
        "clear_output()"
      ],
      "execution_count": null,
      "outputs": []
    },
    {
      "cell_type": "markdown",
      "metadata": {
        "id": "62---FFHaq-e"
      },
      "source": [
        "# Single-qubit states"
      ]
    },
    {
      "cell_type": "markdown",
      "metadata": {
        "id": "o3orsRkgaq-f"
      },
      "source": [
        "In lecture, you learned that single qubit states can be written down generally as \n",
        "\n",
        "$$\\sqrt{1-p}\\vert0\\rangle + e^{i\\phi}\\sqrt{p}\\vert1\\rangle$$\n",
        "\n",
        "Here, $p$ is the probability that a measurement of the state in the computational basis $\\{\\vert0\\rangle, \\vert1\\rangle\\}$ will have the outcome $1$, and $\\phi$ is the phase between the two computational basis states. \n",
        "\n",
        "Single-qubit gates can then be used to manipulate this quantum state by changing either $p$, $\\phi$, or both.\n",
        "\n",
        "Let's begin by creating a single-qubit quantum circuit. We can do this in `Qiskit` using the following:"
      ]
    },
    {
      "cell_type": "code",
      "metadata": {
        "id": "_WQOuxhraq-g"
      },
      "source": [
        "from qiskit import QuantumCircuit\n",
        "\n",
        "mycircuit = QuantumCircuit(1)\n",
        "mycircuit.draw('mpl')"
      ],
      "execution_count": null,
      "outputs": []
    },
    {
      "cell_type": "markdown",
      "metadata": {
        "id": "JMglEiEKaq-g"
      },
      "source": [
        "The above quantum circuit does not contain any gates. Therefore, if you start in any state, say $\\vert0\\rangle$, applying this circuit to your state doesn't change the state. \n",
        "\n",
        "To see this clearly, let's create the statevector $\\vert0\\rangle$. In `Qiskit`, you can do this using the following:"
      ]
    },
    {
      "cell_type": "code",
      "metadata": {
        "id": "_BJbfCJBaq-h"
      },
      "source": [
        "from qiskit.quantum_info import Statevector\n",
        "\n",
        "sv = Statevector.from_label('0')"
      ],
      "execution_count": null,
      "outputs": []
    },
    {
      "cell_type": "markdown",
      "metadata": {
        "id": "hFGqk4Hgaq-i"
      },
      "source": [
        "You can see what's contained in the object `sv`:"
      ]
    },
    {
      "cell_type": "code",
      "metadata": {
        "id": "yFk0_760aq-j"
      },
      "source": [
        "sv"
      ],
      "execution_count": null,
      "outputs": []
    },
    {
      "cell_type": "markdown",
      "metadata": {
        "id": "ZspPuwpPaq-k"
      },
      "source": [
        "The vector itself can be found by writing"
      ]
    },
    {
      "cell_type": "code",
      "metadata": {
        "id": "481EZ1SYaq-k"
      },
      "source": [
        "sv.data"
      ],
      "execution_count": null,
      "outputs": []
    },
    {
      "cell_type": "markdown",
      "metadata": {
        "id": "eBwDgV2saq-l"
      },
      "source": [
        "As you can see, the above matches what you learned in lecture. Recall that $$\\vert0\\rangle = \\begin{bmatrix}1\\\\0\\end{bmatrix}$$\n",
        "\n",
        "We can now apply the quantum circuit `mycircuit` to this state by using the following:"
      ]
    },
    {
      "cell_type": "code",
      "metadata": {
        "id": "G96mbk5vaq-l"
      },
      "source": [
        "new_sv = sv.evolve(mycircuit)"
      ],
      "execution_count": null,
      "outputs": []
    },
    {
      "cell_type": "markdown",
      "metadata": {
        "id": "g0tSEK0Jaq-m"
      },
      "source": [
        "Once again, you can look at the new statevector by writing"
      ]
    },
    {
      "cell_type": "code",
      "metadata": {
        "id": "LnIqmIAgaq-n"
      },
      "source": [
        "new_sv"
      ],
      "execution_count": null,
      "outputs": []
    },
    {
      "cell_type": "markdown",
      "metadata": {
        "id": "28LkcefWaq-n"
      },
      "source": [
        "As you can see, the statevector hasn't changed. Recall the concept of state projection that you learned in lecture. You can compute the projection of `new_sv` onto `sv` by writing"
      ]
    },
    {
      "cell_type": "code",
      "metadata": {
        "id": "Bjp0Josoaq-n"
      },
      "source": [
        "from qiskit.quantum_info import state_fidelity\n",
        "\n",
        "state_fidelity(sv, new_sv)"
      ],
      "execution_count": null,
      "outputs": []
    },
    {
      "cell_type": "markdown",
      "metadata": {
        "id": "TfRuFzl8aq-o"
      },
      "source": [
        "As you can see, the projection of `new_sv` onto `sv` is 1, indicating that the two states are identical. You can visualize this state using the `qsphere` by writing"
      ]
    },
    {
      "cell_type": "code",
      "metadata": {
        "id": "4QqNWi_caq-o"
      },
      "source": [
        "from qiskit.visualization import plot_state_qsphere\n",
        "\n",
        "plot_state_qsphere(sv.data)"
      ],
      "execution_count": null,
      "outputs": []
    },
    {
      "cell_type": "markdown",
      "metadata": {
        "id": "uYrqO2_eaq-p"
      },
      "source": [
        "As you learned in lecture 1, applying an $X$ gate flips the qubit from the state $\\vert0\\rangle$ to the state $\\vert1\\rangle$. To see this clearly, we will first create a single-qubit quantum circuit with the $X$ gate."
      ]
    },
    {
      "cell_type": "code",
      "metadata": {
        "id": "bcHm32Euaq-q"
      },
      "source": [
        "mycircuit = QuantumCircuit(1)\n",
        "mycircuit.x(0)\n",
        "\n",
        "mycircuit.draw('mpl')"
      ],
      "execution_count": null,
      "outputs": []
    },
    {
      "cell_type": "markdown",
      "metadata": {
        "id": "kCZpRcxSaq-q"
      },
      "source": [
        "Now, we can apply this circuit onto our state by writing"
      ]
    },
    {
      "cell_type": "code",
      "metadata": {
        "id": "5a02NmQ8aq-r"
      },
      "source": [
        "sv = Statevector.from_label('0')\n",
        "new_sv = sv.evolve(mycircuit)\n",
        "new_sv"
      ],
      "execution_count": null,
      "outputs": []
    },
    {
      "cell_type": "markdown",
      "metadata": {
        "id": "T2mLTZGcaq-r"
      },
      "source": [
        "As you can see, the statevector now corresponds to that of the state $\\vert1\\rangle$. Recall that\n",
        "\n",
        "$$\\vert1\\rangle = \\begin{bmatrix}0\\\\1\\end{bmatrix}$$"
      ]
    },
    {
      "cell_type": "markdown",
      "metadata": {
        "id": "OdEnLl0Maq-s"
      },
      "source": [
        "Now, the projection of `new_sv` onto `sv` is "
      ]
    },
    {
      "cell_type": "code",
      "metadata": {
        "id": "H7I7L_VQaq-t"
      },
      "source": [
        "state_fidelity(new_sv, sv)"
      ],
      "execution_count": null,
      "outputs": []
    },
    {
      "cell_type": "markdown",
      "metadata": {
        "id": "F-DPzfbNaq-t"
      },
      "source": [
        "This is not surprising. Recall from the lecture that the states $\\vert0\\rangle$ and $\\vert1\\rangle$ are orthogonal. Therefore, $\\langle0\\vert1\\rangle = 0$. The state can be shown on the `qsphere` by writing"
      ]
    },
    {
      "cell_type": "code",
      "metadata": {
        "id": "3dO7U3_Maq-t"
      },
      "source": [
        "plot_state_qsphere(new_sv.data)"
      ],
      "execution_count": null,
      "outputs": []
    },
    {
      "cell_type": "markdown",
      "metadata": {
        "id": "17CJfnHIaq-u"
      },
      "source": [
        "Similarly, we can create the state $$\\frac{1}{\\sqrt{2}}\\left(\\vert0\\rangle + \\vert1\\rangle\\right)$$\n",
        "by applying a Hadamard gate as you learned in lecture. Here is how we can create the state and visualize it in `Qiskit`:"
      ]
    },
    {
      "cell_type": "code",
      "metadata": {
        "id": "FiZbvyNHaq-u"
      },
      "source": [
        "sv = Statevector.from_label('0')\n",
        "mycircuit = QuantumCircuit(1)\n",
        "mycircuit.h(0)\n",
        "mycircuit.draw('mpl')"
      ],
      "execution_count": null,
      "outputs": []
    },
    {
      "cell_type": "code",
      "metadata": {
        "id": "Gu-s-Ymyaq-v"
      },
      "source": [
        "new_sv = sv.evolve(mycircuit)\n",
        "print(new_sv)\n",
        "plot_state_qsphere(new_sv.data)"
      ],
      "execution_count": null,
      "outputs": []
    },
    {
      "cell_type": "markdown",
      "metadata": {
        "id": "QenjZnMzaq-v"
      },
      "source": [
        "As you can see above, the state has equal components of $\\vert0\\rangle$ and $\\vert1\\rangle$. The size of the circle is proportional to the probability of measuring each basis state in the statevector. As a result, you can see that the size of the circles is half of the size of the circles in our previous visualizations."
      ]
    },
    {
      "cell_type": "markdown",
      "metadata": {
        "id": "m9xII8zWaq-v"
      },
      "source": [
        "Recall from lecture that we can also create other superpositions with different phase. Let's create $$\\frac{1}{\\sqrt{2}}\\left(\\vert0\\rangle - \\vert1\\rangle\\right)$$ which can be done by applying the Hadamard gate on the state $\\vert1\\rangle$."
      ]
    },
    {
      "cell_type": "code",
      "metadata": {
        "id": "AuQ3b1dMaq-w"
      },
      "source": [
        "sv = Statevector.from_label('1')\n",
        "mycircuit = QuantumCircuit(1)\n",
        "mycircuit.h(0)\n",
        "\n",
        "new_sv = sv.evolve(mycircuit)\n",
        "print(new_sv)\n",
        "plot_state_qsphere(new_sv.data)"
      ],
      "execution_count": null,
      "outputs": []
    },
    {
      "cell_type": "markdown",
      "metadata": {
        "id": "ztweJh3Vaq-w"
      },
      "source": [
        "This time, the bottom circle, corresponding to the basis state $\\vert1\\rangle$ has a different color corresponding to the phase of $\\phi = \\pi$. This is because the coefficient of $\\vert1\\rangle$ in the state $$\\frac{1}{\\sqrt{2}}\\left(\\vert0\\rangle - \\vert1\\rangle\\right)$$ is $-1$, which is equal to $e^{i\\pi}$.\n",
        "\n",
        "Other phases can also be created by applying different gates. The $T$ and $S$ gates apply phases of $+\\pi/4$ and $+\\pi/2$, respectively. The widget below helps you see different gates, and their actions on single-qubit quantum states."
      ]
    },
    {
      "cell_type": "code",
      "metadata": {
        "id": "otTT9c8Xaq-x"
      },
      "source": [
        "from resources.qiskit_textbook.widgets import gate_demo\n",
        "gate_demo(qsphere=True)"
      ],
      "execution_count": null,
      "outputs": []
    },
    {
      "cell_type": "markdown",
      "metadata": {
        "id": "9l60K9Osaq-x"
      },
      "source": [
        "A summary of the operations of the most common gates on single-qubit states is given by the handy image below, where the phases are shown in degrees.\n",
        "\n",
        "![image](resources/gates-and-qspheres.png)"
      ]
    },
    {
      "cell_type": "markdown",
      "metadata": {
        "id": "6K-Ega37aq-y"
      },
      "source": [
        "# Multi-qubit states"
      ]
    },
    {
      "cell_type": "markdown",
      "metadata": {
        "id": "KCc330BXaq-y"
      },
      "source": [
        "Similar to the discussion above, you can also explore multi-qubit gates in `Qiskit`. In lecture, you learned about Bell states, and how they can be generated using quantum gates. We will demonstrate below how to create the Bell state $$\\frac{1}{\\sqrt{2}}\\left(\\vert00\\rangle + \\vert11\\rangle\\right)$$ from the state $\\vert00\\rangle$. We'll start by visualizing the state $\\vert00\\rangle$ using the same procedure:"
      ]
    },
    {
      "cell_type": "code",
      "metadata": {
        "id": "llKrVZJ4aq-z"
      },
      "source": [
        "sv = Statevector.from_label('00')\n",
        "plot_state_qsphere(sv.data)"
      ],
      "execution_count": null,
      "outputs": []
    },
    {
      "cell_type": "markdown",
      "metadata": {
        "id": "-EwA6Cowaq-z"
      },
      "source": [
        "Next, we use the Hadamard gate described above, along with a controlled-X gate, to create the Bell state."
      ]
    },
    {
      "cell_type": "code",
      "metadata": {
        "id": "CXQbxKZraq-0"
      },
      "source": [
        "mycircuit = QuantumCircuit(2)\n",
        "mycircuit.h(0)\n",
        "mycircuit.cx(0,1)\n",
        "mycircuit.draw('mpl')"
      ],
      "execution_count": null,
      "outputs": []
    },
    {
      "cell_type": "markdown",
      "metadata": {
        "id": "Jj8QmFh1aq-0"
      },
      "source": [
        "The result of this quantum circuit on the state $\\vert00\\rangle$ is found by writing"
      ]
    },
    {
      "cell_type": "code",
      "metadata": {
        "id": "lykW_BPQaq-0"
      },
      "source": [
        "new_sv = sv.evolve(mycircuit)\n",
        "print(new_sv)\n",
        "plot_state_qsphere(new_sv.data)"
      ],
      "execution_count": null,
      "outputs": []
    },
    {
      "cell_type": "markdown",
      "metadata": {
        "id": "TZv5x6-8aq-1"
      },
      "source": [
        "Note how this looks very similar to a single-qubit superposition with zero phase. Following entanglement, it is no longer possible to treat the two qubits individually, and they must be considered to be one system. \n",
        "\n",
        "To see this clearly, we can see what would happen if we measured the Bell state above 1000 times."
      ]
    },
    {
      "cell_type": "code",
      "metadata": {
        "id": "b3PlOiY7aq-1"
      },
      "source": [
        "counts = new_sv.sample_counts(shots=1000)\n",
        "\n",
        "from qiskit.visualization import plot_histogram\n",
        "plot_histogram(counts)"
      ],
      "execution_count": null,
      "outputs": []
    },
    {
      "cell_type": "markdown",
      "metadata": {
        "id": "DKVngt5caq-2"
      },
      "source": [
        "As you can see above, all measurements give either the result `00` or `11`. In other words, if the measurement outcome for one of the qubits is known, then the outcome for the other is fully determined."
      ]
    },
    {
      "cell_type": "markdown",
      "metadata": {
        "id": "DXtfSwnvaq-2"
      },
      "source": [
        "### Ungraded exercise 1\n",
        "\n",
        "Can you create the state $$\\frac{1}{\\sqrt{2}}\\left(\\vert01\\rangle + \\vert10\\rangle\\right)$$ using a similar procedure?"
      ]
    },
    {
      "cell_type": "markdown",
      "metadata": {
        "id": "NsdD9Q8qaq-3"
      },
      "source": [
        "### Ungraded exercise 2\n",
        "\n",
        "Can you create the state $$\\frac{1}{\\sqrt{2}}\\left(\\vert01\\rangle - \\vert10\\rangle\\right)$$ using a similar procedure?"
      ]
    },
    {
      "cell_type": "markdown",
      "metadata": {
        "id": "19-3GLSbaq-4"
      },
      "source": [
        "# Measurements"
      ]
    },
    {
      "cell_type": "markdown",
      "metadata": {
        "id": "_YVu7fxlaq-5"
      },
      "source": [
        "In the above example, we simulated the action of a measurement by sampling counts from the statevector. A measurement can explicitly be inserted into a quantum circuit as well. Here is an example that creates the same Bell state and applies a measurement."
      ]
    },
    {
      "cell_type": "code",
      "metadata": {
        "id": "3Jqu07E1aq-5"
      },
      "source": [
        "mycircuit = QuantumCircuit(2, 2)\n",
        "mycircuit.h(0)\n",
        "mycircuit.cx(0,1)\n",
        "mycircuit.measure([0,1], [0,1])\n",
        "mycircuit.draw('mpl')"
      ],
      "execution_count": null,
      "outputs": []
    },
    {
      "cell_type": "markdown",
      "metadata": {
        "id": "mX_sZYqWaq-6"
      },
      "source": [
        "Two new features appeared in the circuit compared to our previous examples. \n",
        "\n",
        "- First, note that we used a second argument in the `QuantumCircuit(2,2)` command. The second argument says that we will be creating a quantum circuit that contains two qubits (the first argument), and two classical bits (the second argument).\n",
        "- Second, note that the `measure` command takes two arguments. The first argument is the set of qubits that will be measured. The second is the set of classical bits onto which the outcomes from the measurements of the qubits will be stored."
      ]
    },
    {
      "cell_type": "markdown",
      "metadata": {
        "id": "ydSoZLX2aq-7"
      },
      "source": [
        "Since the above quantum circuit contains non-unitaries (the measurement gates), we will use `Qiskit`'s built-in `Aer` simulators to run the circuit. To get the measurement counts, we can use the following code:"
      ]
    },
    {
      "cell_type": "code",
      "metadata": {
        "id": "VTzCeuNiaq-7"
      },
      "source": [
        "from qiskit import Aer, execute\n",
        "simulator = Aer.get_backend('qasm_simulator')\n",
        "result = execute(mycircuit, simulator, shots=10000).result()\n",
        "counts = result.get_counts(mycircuit)\n",
        "plot_histogram(counts)"
      ],
      "execution_count": null,
      "outputs": []
    },
    {
      "cell_type": "markdown",
      "metadata": {
        "id": "anXYxi19aq-7"
      },
      "source": [
        "As you can see, the measurement outcomes are similar to when we sampled counts from the statevector itself."
      ]
    },
    {
      "cell_type": "markdown",
      "metadata": {
        "id": "q_89jIx2aq-8"
      },
      "source": [
        "# Graded exercise 1: Quantum teleportation"
      ]
    },
    {
      "cell_type": "markdown",
      "metadata": {
        "id": "4FZ9YB7haq-8"
      },
      "source": [
        "In this graded exercise, you will teleport the quantum state \n",
        "$$\\sqrt{0.70}\\vert0\\rangle + \\sqrt{0.30}\\vert1\\rangle$$ from Alice's qubit to Bob's qubit. Recall that the teleportation algorithm consists of four major components:\n",
        "\n",
        "1. Initializing the state to be teleported. We will do this on Alice's qubit `q0`.\n",
        "2. Creating entanglement between two qubits. We will use qubits `q1` and `q2` for this. Recall that Alice owns `q1`, and Bob owns `q2`.\n",
        "3. Applying a Bell measurement on Alice's qubits `q0` and `q1`.\n",
        "4. Applying classically controlled operations on Bob's qubit `q2` depending on the outcomes of the Bell measurement on Alice's qubits.\n",
        "\n",
        "This exercise guides you through each of these steps."
      ]
    },
    {
      "cell_type": "markdown",
      "metadata": {
        "id": "7PYNc-O5aq-9"
      },
      "source": [
        "### Initializing the state to be teleported"
      ]
    },
    {
      "cell_type": "markdown",
      "metadata": {
        "id": "PYDwnRYaaq-9"
      },
      "source": [
        "First, create a quantum circuit that creates the state $$\\sqrt{0.70}\\vert0\\rangle + \\sqrt{0.30}\\vert1\\rangle$$ You can do this by using `Qiskit`'s `initialize` function."
      ]
    },
    {
      "cell_type": "code",
      "metadata": {
        "id": "grdvTEyYaq-9"
      },
      "source": [
        "def initialize_qubit(given_circuit, qubit_index):\n",
        "    \n",
        "    import numpy as np\n",
        "    ### WRITE YOUR CODE BETWEEN THESE LINES - START\n",
        "    \n",
        "    given_circuit.initialize([np.sqrt(0.70), np.sqrt(0.30)], qubit_index)\n",
        "    \n",
        "    ### WRITE YOUR CODE BETWEEN THESE LINES - END\n",
        "    \n",
        "    return given_circuit"
      ],
      "execution_count": null,
      "outputs": []
    },
    {
      "cell_type": "markdown",
      "metadata": {
        "id": "F-j09472aq--"
      },
      "source": [
        "Next, we need to create entanglement between Alice's and Bob's qubits."
      ]
    },
    {
      "cell_type": "code",
      "metadata": {
        "id": "yjv1T9zXaq--"
      },
      "source": [
        "def entangle_qubits(given_circuit, qubit_Alice, qubit_Bob):\n",
        "    \n",
        "    ### WRITE YOUR CODE BETWEEN THESE LINES - START\n",
        "    \n",
        "    given_circuit.h(qubit_Alice)\n",
        "    given_circuit.cx(qubit_Alice, qubit_Bob)\n",
        "    \n",
        "    ### WRITE YOUR CODE BETWEEN THESE LINES - END\n",
        "    \n",
        "    return given_circuit"
      ],
      "execution_count": null,
      "outputs": []
    },
    {
      "cell_type": "markdown",
      "metadata": {
        "id": "v-EagJR5aq--"
      },
      "source": [
        "Next, we need to do a Bell measurement of Alice's qubits."
      ]
    },
    {
      "cell_type": "code",
      "metadata": {
        "id": "DFLNFenEaq--"
      },
      "source": [
        "def bell_meas_Alice_qubits(given_circuit, qubit1_Alice, qubit2_Alice, clbit1_Alice, clbit2_Alice):\n",
        "    \n",
        "    ### WRITE YOUR CODE BETWEEN THESE LINES - START\n",
        "    \n",
        "    given_circuit.cx(qubit1_Alice, qubit2_Alice)\n",
        "    given_circuit.h(qubit1_Alice)\n",
        "    given_circuit.barrier()\n",
        "    given_circuit.measure(qubit1_Alice, clbit1_Alice)\n",
        "    given_circuit.measure(qubit2_Alice, clbit2_Alice)\n",
        "\n",
        "    ### WRITE YOUR CODE BETWEEN THESE LINES - END\n",
        "\n",
        "    \n",
        "    return given_circuit"
      ],
      "execution_count": null,
      "outputs": []
    },
    {
      "cell_type": "markdown",
      "metadata": {
        "id": "mY32DJTxaq-_"
      },
      "source": [
        "Finally, we apply controlled operations on Bob's qubit. Recall that the controlled operations are applied in this order:\n",
        "\n",
        "- an $X$ gate is applied on Bob's qubit if the measurement coutcome of Alice's second qubit, `clbit2_Alice`, is `1`.\n",
        "- a $Z$ gate is applied on Bob's qubit if the measurement coutcome of Alice's first qubit, `clbit1_Alice`, is `1`."
      ]
    },
    {
      "cell_type": "code",
      "metadata": {
        "id": "KnlxZipDaq-_"
      },
      "source": [
        "def controlled_ops_Bob_qubit(given_circuit, qubit_Bob, clbit1_Alice, clbit2_Alice):\n",
        "    \n",
        "    ### WRITE YOUR CODE BETWEEN THESE LINES - START\n",
        "    \n",
        "    given_circuit.x(qubit_Bob).c_if(clbit2_Alice, 1)\n",
        "    given_circuit.z(qubit_Bob).c_if(clbit1_Alice, 1)\n",
        "    \n",
        "    ### WRITE YOUR CODE BETWEEN THESE LINES - END\n",
        "    \n",
        "    return given_circuit"
      ],
      "execution_count": null,
      "outputs": []
    },
    {
      "cell_type": "markdown",
      "metadata": {
        "id": "qSe9n3Siaq-_"
      },
      "source": [
        "The next lines of code put everything together. **You do not need to modify anything below, but you will need to run the cell to submit your solution.**"
      ]
    },
    {
      "cell_type": "code",
      "metadata": {
        "id": "BBM2LSUcaq-_"
      },
      "source": [
        "### imports\n",
        "from qiskit import QuantumRegister, ClassicalRegister\n",
        "\n",
        "### set up the qubits and classical bits\n",
        "all_qubits_Alice = QuantumRegister(2)\n",
        "all_qubits_Bob = QuantumRegister(1)\n",
        "creg1_Alice = ClassicalRegister(1)\n",
        "creg2_Alice = ClassicalRegister(1)\n",
        "\n",
        "### quantum teleportation circuit here\n",
        "# Initialize\n",
        "mycircuit = QuantumCircuit(all_qubits_Alice, all_qubits_Bob, creg1_Alice, creg2_Alice)\n",
        "initialize_qubit(mycircuit, 0)\n",
        "mycircuit.barrier()\n",
        "# Entangle\n",
        "entangle_qubits(mycircuit, 1, 2)\n",
        "mycircuit.barrier()\n",
        "# Do a Bell measurement\n",
        "bell_meas_Alice_qubits(mycircuit, all_qubits_Alice[0], all_qubits_Alice[1], creg1_Alice, creg2_Alice)\n",
        "mycircuit.barrier()\n",
        "# Apply classically controlled quantum gates\n",
        "controlled_ops_Bob_qubit(mycircuit, all_qubits_Bob[0], creg1_Alice, creg2_Alice)\n",
        "\n",
        "### Look at the complete circuit\n",
        "print(mycircuit.draw(output='text'))\n",
        "\n",
        "### store the circuit as the submitted answer\n",
        "answer = mycircuit"
      ],
      "execution_count": null,
      "outputs": []
    },
    {
      "cell_type": "markdown",
      "metadata": {
        "id": "MvleI6j2aq-_"
      },
      "source": [
        "Then, grade your solution by running the cell below. Provide always the same name and email, as the one you wrote during the course sign up."
      ]
    },
    {
      "cell_type": "code",
      "metadata": {
        "id": "vCO8VC9Baq_A"
      },
      "source": [
        "name = 'First Last'\n",
        "email = 'first.last@domain.com'\n",
        "\n",
        "from grading_tools import grade\n",
        "grade(answer, name, email, 'lab1', 'ex1')"
      ],
      "execution_count": null,
      "outputs": []
    },
    {
      "cell_type": "markdown",
      "metadata": {
        "id": "_C5heXxdaq_A"
      },
      "source": [
        "# Additional reading\n",
        "\n",
        "- You can watch a video on building the quantum teleportation quantum circuit here: https://www.youtube.com/watch?v=mMwovHK2NrE&list=PLOFEBzvs-Vvp2xg9-POLJhQwtVktlYGbY&index=6&t=0s\n",
        "\n",
        "- For additional details about the quantum teleportation algorithm, including the principle of deferred measurement, you can refer to the Qiskit Textbook's section on the algorithm here: https://qiskit.org/textbook/ch-algorithms/teleportation.html\n",
        "\n",
        "- The `1 minute Qiskit` episode entitled `What is the qsphere?` succinctly describes the Qsphere visualization tool that we used in this lab. You can find it here: https://youtu.be/4SoK2h4a7us"
      ]
    }
  ]
}